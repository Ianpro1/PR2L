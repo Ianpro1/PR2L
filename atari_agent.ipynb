{
 "cells": [
  {
   "cell_type": "code",
   "execution_count": 1,
   "metadata": {},
   "outputs": [
    {
     "name": "stderr",
     "output_type": "stream",
     "text": [
      "c:\\Users\\ianmi\\miniconda3\\envs\\GPUtorch\\lib\\site-packages\\tqdm\\auto.py:22: TqdmWarning: IProgress not found. Please update jupyter and ipywidgets. See https://ipywidgets.readthedocs.io/en/stable/user_install.html\n",
      "  from .autonotebook import tqdm as notebook_tqdm\n"
     ]
    }
   ],
   "source": [
    "import gym\n",
    "import collections\n",
    "import matplotlib.pyplot as plt\n",
    "import numpy as np\n",
    "import torch\n",
    "import torch.nn as nn\n"
   ]
  },
  {
   "cell_type": "code",
   "execution_count": 2,
   "metadata": {},
   "outputs": [
    {
     "name": "stderr",
     "output_type": "stream",
     "text": [
      "C:\\Users\\ianmi\\AppData\\Local\\Temp\\ipykernel_8764\\303092263.py:23: UserWarning: Creating a tensor from a list of numpy.ndarrays is extremely slow. Please consider converting the list to a single numpy.ndarray with numpy.array() before converting to a tensor. (Triggered internally at C:\\cb\\pytorch_1000000000000\\work\\torch\\csrc\\utils\\tensor_new.cpp:233.)\n",
      "  obs = torch.FloatTensor([obs[0], obs2[0]])\n"
     ]
    },
    {
     "data": {
      "text/plain": [
       "tensor([[-2.3007, -1.9583,  1.9629,  0.4853],\n",
       "        [-2.2787, -1.9940,  1.9866,  0.4010]], grad_fn=<AddmmBackward0>)"
      ]
     },
     "execution_count": 2,
     "metadata": {},
     "output_type": "execute_result"
    }
   ],
   "source": [
    "import ptan\n",
    "import common\n",
    "import atari_wrappers\n",
    "\n",
    "\n",
    "EPSILON = 1.0\n",
    "GAMMA = 0.99\n",
    "\n",
    "env = gym.make(\"Breakout-v4\", render_mode='rgb_array')\n",
    "env = atari_wrappers.MaxAndSkipEnv(env)\n",
    "env = atari_wrappers.reshapeWrapper(env)\n",
    "\n",
    "\n",
    "net = common.DQN((3, 210,160), env.action_space.n)\n",
    "\n",
    "agent = ptan.agent.DQNAgent(net, action_selector=ptan.actions.ArgmaxActionSelector())\n",
    "\n",
    "\n",
    "\n",
    "obs = env.reset()\n",
    "obs2 = env.step(2)\n",
    "\n",
    "obs = torch.FloatTensor([obs[0], obs2[0]])\n",
    "\n",
    "\n",
    "\n",
    "decision = net(obs)\n",
    "decision\n",
    "\n"
   ]
  }
 ],
 "metadata": {
  "kernelspec": {
   "display_name": "Python 3",
   "language": "python",
   "name": "python3"
  },
  "language_info": {
   "codemirror_mode": {
    "name": "ipython",
    "version": 3
   },
   "file_extension": ".py",
   "mimetype": "text/x-python",
   "name": "python",
   "nbconvert_exporter": "python",
   "pygments_lexer": "ipython3",
   "version": "3.10.8"
  },
  "orig_nbformat": 4,
  "vscode": {
   "interpreter": {
    "hash": "c5aaa6110c051b252f9bc5cac8ee3d9ddd5264f49c7610fe0e84bda82603ad25"
   }
  }
 },
 "nbformat": 4,
 "nbformat_minor": 2
}
